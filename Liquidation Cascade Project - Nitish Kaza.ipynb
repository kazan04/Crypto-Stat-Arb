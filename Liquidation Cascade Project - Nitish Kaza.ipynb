{
 "cells": [
  {
   "cell_type": "markdown",
   "id": "57068fac",
   "metadata": {},
   "source": [
    "# Statistical Arbitrage in Cryptocurrency through Liquidation Cascades\n",
    "by identifying forced selling events and capturing the subsequent mean reversion.\n",
    "\n",
    "Strategy Overview:\n",
    "- Detects liquidation events using multi-timeframe price drops and volume spikes\n",
    "- Identifies cascade liquidation patterns across multiple assets\n",
    "- Enters long positions during panic selling to capture behavioral finance inefficiencies\n",
    "- Exits when prices revert to fair value or technical conditions change\n",
    "\n",
    "\n",
    "Idea: Use Coinglass liquidation data to selectively detect liquidation cascades and act on them, then hold to generate profit as the prices revert. \n",
    "\n",
    "In this run, we get binance data from 2023-01-01 to 2024-01-31; other periods starting from 2020 were used to capture the effects of COVID as well\n",
    "\n",
    "Author: Nitish Kaza"
   ]
  },
  {
   "cell_type": "code",
   "execution_count": 1,
   "id": "4425495e",
   "metadata": {},
   "outputs": [
    {
     "name": "stderr",
     "output_type": "stream",
     "text": [
      "C:\\Users\\Nitish\\anaconda3\\lib\\site-packages\\scipy\\__init__.py:138: UserWarning: A NumPy version >=1.16.5 and <1.23.0 is required for this version of SciPy (detected version 1.24.4)\n",
      "  warnings.warn(f\"A NumPy version >={np_minversion} and <{np_maxversion} is required for this version of \"\n"
     ]
    }
   ],
   "source": [
    "from binance.client import Client as bnb_client\n",
    "from datetime import datetime\n",
    "import pandas as pd, numpy as np\n",
    "import matplotlib.pyplot as plt\n",
    "import time\n",
    "from scipy import stats\n"
   ]
  },
  {
   "cell_type": "code",
   "execution_count": 2,
   "id": "38491528",
   "metadata": {},
   "outputs": [],
   "source": [
    "client = bnb_client(tld='us') "
   ]
  },
  {
   "cell_type": "code",
   "execution_count": 3,
   "id": "8d667367",
   "metadata": {},
   "outputs": [],
   "source": [
    "#Data collection function\n",
    "\n",
    "st = '2023-01-01'\n",
    "et = '2024-01-31'\n",
    "\n",
    "def get_binance_px(symbol, freq, start_ts=st, end_ts=et):\n",
    "    data = client.get_historical_klines(symbol, freq, start_ts, end_ts)\n",
    "    df = pd.DataFrame(data, columns=[\n",
    "        'open_time','open','high','low','close','volume','close_time',\n",
    "        'quote_volume','num_trades','taker_base_volume','taker_quote_volume','ignore'\n",
    "    ])\n",
    "    df['open_time'] = pd.to_datetime(df['open_time'], unit='ms')\n",
    "    df.set_index('open_time', inplace=True)\n",
    "    df[['close','volume']] = df[['close','volume']].astype(float)\n",
    "    return df[['close','volume']]"
   ]
  },
  {
   "cell_type": "code",
   "execution_count": 4,
   "id": "1fdcdad1",
   "metadata": {},
   "outputs": [],
   "source": [
    "#Assets to be included in the strategy\n",
    "\n",
    "univ = [\n",
    "    'BTCUSDT', 'ETHUSDT', 'BNBUSDT', 'SOLUSDT', 'XRPUSDT',\n",
    "    'ADAUSDT', 'DOGEUSDT', 'AVAXUSDT', 'DOTUSDT', 'MATICUSDT',\n",
    "    'LTCUSDT', 'SHIBUSDT', 'TRXUSDT', 'LINKUSDT', 'BCHUSDT',\n",
    "    'UNIUSDT', 'XLMUSDT', 'ATOMUSDT', 'FILUSDT', 'ETCUSDT'\n",
    "]\n",
    "\n",
    "freq = '1h'\n",
    "px, vol = {}, {}\n",
    "\n",
    "for sym in univ:\n",
    "    try:\n",
    "        df = get_binance_px(sym, freq)\n",
    "        px[sym] = df['close']\n",
    "        vol[sym] = df['volume']\n",
    "        time.sleep(1.5)  # avoid API rate limits\n",
    "    except Exception as e:\n",
    "        print(f\"Failed to load {sym}: {e}\")\n",
    "\n"
   ]
  },
  {
   "cell_type": "code",
   "execution_count": 5,
   "id": "b015c235",
   "metadata": {},
   "outputs": [],
   "source": [
    "px = pd.DataFrame(px).sort_index()\n",
    "vol = pd.DataFrame(vol).sort_index()\n",
    "px = px.reindex(pd.date_range(px.index[0], px.index[-1], freq=freq))\n",
    "vol = vol.reindex_like(px)\n",
    "ret = px.pct_change()"
   ]
  },
  {
   "cell_type": "markdown",
   "id": "dfdb4226",
   "metadata": {},
   "source": [
    "#   LIQUIDATION EVENT DETECTION ALGORITHM\n",
    "    \n",
    "    This function identifies forced liquidation events in cryptocurrency markets by analyzing\n",
    "    price drops, volume spikes, and cascade patterns. The algorithm is designed to capture\n",
    "    behavioral finance phenomena where panic selling creates temporary price dislocations.\n",
    "    \n",
    "    Key Components:\n",
    "    1. Multi-timeframe price analysis to detect different liquidation patterns\n",
    "    2. Dynamic volume thresholds using rolling percentiles to adapt to market conditions\n",
    "    3. Cascade detection to identify multi-stage liquidation events\n",
    "    4. Market-wide confirmation to filter out single-asset noise\n",
    "    \n",
    "    Parameters:\n",
    "    -----------\n",
    "    px : pd.DataFrame\n",
    "        Hourly price data for cryptocurrency assets\n",
    "    vol : pd.DataFrame  \n",
    "        Hourly volume data for cryptocurrency assets\n",
    "    initial_drop : float\n",
    "        Threshold for initial liquidation signal (default: 5%)\n",
    "    cascade_drop : float\n",
    "        Additional drop threshold for cascade detection (default: 3%)\n",
    "    vol_percentile : int\n",
    "        Volume percentile threshold for confirmation (default: 95th percentile)\n",
    "    min_assets : int\n",
    "        Minimum number of assets that must signal simultaneously (default: 3)\n",
    "        \n",
    "    Returns:\n",
    "    --------\n",
    "    pd.DataFrame\n",
    "        Boolean matrix indicating liquidation events for each asset at each timestamp\n",
    "        \n",
    "    Strategy Rationale:\n",
    "    ------------------\n",
    "    Liquidation events represent forced selling by leveraged traders, creating temporary\n",
    "    price dislocations below fair value. These events exhibit specific characteristics:\n",
    "    - Sharp price drops over short timeframes\n",
    "    - Abnormally high trading volume\n",
    "    - Contagion effects across correlated assets\n",
    "    - Predictable mean reversion as panic subsides"
   ]
  },
  {
   "cell_type": "code",
   "execution_count": 6,
   "id": "5f688212",
   "metadata": {},
   "outputs": [],
   "source": [
    "def detect_liquidation_events(px, vol, \n",
    "                            initial_drop=0.05, cascade_drop=0.03, \n",
    "                            vol_percentile=95, min_assets=3):\n",
    "    \"\"\"\n",
    "    Enhanced liquidation detection with cascade patterns\n",
    "    \"\"\"\n",
    "    crash_signals = pd.DataFrame(index=px.index)\n",
    "    \n",
    "    for sym in px.columns:\n",
    "        ret_1h = px[sym].pct_change()\n",
    "        ret_2h = px[sym].pct_change(periods=2)\n",
    "        \n",
    "        vol_thresh_95 = vol[sym].rolling(168).quantile(0.95)  # 7-day 95th percentile\n",
    "        vol_thresh_90 = vol[sym].rolling(168).quantile(0.90)  # 7-day 90th percentile\n",
    "        \n",
    "        strong_drop = ret_1h < -initial_drop  # 5% drop in 1h\n",
    "        cascade = (ret_2h < -(initial_drop + cascade_drop)) & (ret_1h > -cascade_drop)  # cascade pattern\n",
    "        extreme_drop = ret_1h < -(initial_drop * 1.6)  \n",
    "        \n",
    "        extreme_vol = vol[sym] > vol_thresh_95\n",
    "        high_vol = vol[sym] > vol_thresh_90\n",
    "        \n",
    "        liquidation_signal = ((strong_drop | extreme_drop) & extreme_vol) | (cascade & high_vol)\n",
    "        \n",
    "        crash_signals[sym] = liquidation_signal\n",
    "    \n",
    "    joint_crashes = crash_signals.sum(axis=1) >= min_assets\n",
    "    return crash_signals.where(joint_crashes, False)"
   ]
  },
  {
   "cell_type": "markdown",
   "id": "d6c8c214",
   "metadata": {},
   "source": [
    "Now we identify crashes based on the above function and check if bounce occurs afterward to generate a signal. "
   ]
  },
  {
   "cell_type": "code",
   "execution_count": 7,
   "id": "62ebbd1b",
   "metadata": {},
   "outputs": [],
   "source": [
    "crashes = detect_liquidation_events(px, vol)"
   ]
  },
  {
   "cell_type": "code",
   "execution_count": 8,
   "id": "3cd1733a",
   "metadata": {},
   "outputs": [],
   "source": [
    "confirmed_bounce = px.pct_change().shift(-1) > 0\n",
    "signals = crashes & confirmed_bounce\n",
    "signals = signals.shift(1)"
   ]
  },
  {
   "cell_type": "markdown",
   "id": "4a9448d5",
   "metadata": {},
   "source": [
    "# Returns from trading strategy implementing an adaptive hold period approach based on short-term momentum signals:\n",
    "\n",
    "Signal Detection: Identifies trading opportunities when signals are active for specific assets at given timestamps\n",
    "\n",
    "Adaptive Hold Period:\n",
    "If 1-hour forward return > 2%, hold for 1 hour to capture quick gains\n",
    "Otherwise, hold for 2 hours to allow for longer-term momentum\n",
    "Transaction Costs: Applies 0.2% transaction cost per trade to account for realistic trading friction\n",
    "\n",
    "Return Calculation:\n",
    "1-Hour Returns: px.pct_change().shift(-1) - forward-looking 1-hour price changes\n",
    "2-Hour Returns: px.pct_change(2).shift(-2) - forward-looking 2-hour price changes\n",
    "Net Returns: Gross returns minus transaction costs for performance evaluation\n",
    "\n",
    "Data Collection:\n",
    "The strategy tracks both aggregate performance (strategy_returns) and detailed trade-level information (trade_details) including timestamps, assets, returns, and hold periods for comprehensive analysis.\n",
    "\n"
   ]
  },
  {
   "cell_type": "code",
   "execution_count": 9,
   "id": "1865826b",
   "metadata": {},
   "outputs": [],
   "source": [
    "strategy_returns = []\n",
    "trade_details = []\n",
    "transaction_cost = 0.002\n",
    "\n",
    "ret_1h = px.pct_change().shift(-1)\n",
    "ret_2h = px.pct_change(2).shift(-2)\n",
    "\n",
    "for timestamp in signals.index:\n",
    "    if pd.isna(timestamp):\n",
    "        continue\n",
    "        \n",
    "    active_signals = signals.loc[timestamp]\n",
    "    if active_signals.any():\n",
    "        signal_assets = active_signals[active_signals].index.tolist()\n",
    "        \n",
    "        for asset in signal_assets:\n",
    "            if timestamp not in ret_1h.index or timestamp not in ret_2h.index:\n",
    "                continue\n",
    "                \n",
    "            return_1h = ret_1h.loc[timestamp, asset]\n",
    "            return_2h = ret_2h.loc[timestamp, asset]\n",
    "            \n",
    "            if pd.isna(return_1h) or pd.isna(return_2h):\n",
    "                continue\n",
    "            \n",
    "            if return_1h > 0.02:\n",
    "                gross_return = return_1h\n",
    "                hold_period = 1\n",
    "            else:\n",
    "                gross_return = return_2h\n",
    "                hold_period = 2\n",
    "            \n",
    "            net_return = gross_return - transaction_cost\n",
    "            \n",
    "            strategy_returns.append(net_return)\n",
    "            trade_details.append({\n",
    "                'timestamp': timestamp,\n",
    "                'asset': asset,\n",
    "                'gross_return': gross_return,\n",
    "                'net_return': net_return,\n",
    "                'hold_period': hold_period\n",
    "            })"
   ]
  },
  {
   "cell_type": "code",
   "execution_count": 10,
   "id": "d3c84dbe",
   "metadata": {
    "scrolled": true
   },
   "outputs": [
    {
     "name": "stdout",
     "output_type": "stream",
     "text": [
      "Total trades: 98\n",
      "Sample strategy returns: [ 0.01583591  0.00871081  0.00843219  0.00830098 -0.0004345   0.00225747\n",
      "  0.00951631  0.01250589  0.00598935  0.00979392]\n",
      "Max single period return: 0.1911563799168532\n",
      "Min single period return: -0.027178068577107806\n",
      "Mean return per period: 0.005174487949764721\n"
     ]
    }
   ],
   "source": [
    "strategy_returns = pd.Series(strategy_returns)\n",
    "num_trades = len(strategy_returns)\n",
    "\n",
    "print(f\"Total trades: {num_trades}\")\n",
    "print(f\"Sample strategy returns: {strategy_returns.head(10).values}\")\n",
    "print(f\"Max single period return: {strategy_returns.max()}\")\n",
    "print(f\"Min single period return: {strategy_returns.min()}\")\n",
    "print(f\"Mean return per period: {strategy_returns.mean()}\")"
   ]
  },
  {
   "cell_type": "code",
   "execution_count": 11,
   "id": "e3ab7430",
   "metadata": {
    "scrolled": true
   },
   "outputs": [
    {
     "data": {
      "image/png": "[encoded data removed]",
      "text/plain": [
       "<Figure size 432x288 with 1 Axes>"
      ]
     },
     "metadata": {
      "needs_background": "light"
     },
     "output_type": "display_data"
    }
   ],
   "source": [
    "strategy_returns.cumsum().plot(title=\"Liquidation Bounce Strategy PnL\")\n",
    "plt.xlabel(\"Time\")\n",
    "plt.ylabel(\"Cumulative Return\")\n",
    "plt.tight_layout()\n",
    "plt.show()"
   ]
  },
  {
   "cell_type": "code",
   "execution_count": 12,
   "id": "e9434abd",
   "metadata": {},
   "outputs": [
    {
     "name": "stdout",
     "output_type": "stream",
     "text": [
      "Data period: 2023-01-01 00:00:00 to 2024-01-31 00:00:00\n",
      "Total days: 395\n",
      "Years: 1.08\n",
      "\n",
      "============================================================\n",
      "PERFORMANCE METRICS\n",
      "============================================================\n",
      "Total Return (sum of trades): 50.71%\n",
      "Mean Return per Trade: 0.5174%\n",
      "Annualized Return: 46.89%\n",
      "Annualized Volatility: 25.96%\n",
      "Sharpe Ratio (Annualized): 1.806\n",
      "Max Drawdown: -20.45%\n",
      "Alpha (Annualized): 0.0049\n",
      "Beta vs BTC: -0.010\n",
      "R-squared: 0.000\n",
      "Number of Trades: 98\n"
     ]
    }
   ],
   "source": [
    "if len(strategy_returns) > 0:\n",
    "    # Time frame\n",
    "    start_date = px.index[0]\n",
    "    end_date = px.index[-1]\n",
    "    total_days = (end_date - start_date).days\n",
    "    n_years = total_days / 365.25 if total_days > 0 else 1\n",
    "\n",
    "    print(f\"Data period: {start_date} to {end_date}\")\n",
    "    print(f\"Total days: {total_days}\")\n",
    "    print(f\"Years: {n_years:.2f}\")\n",
    "\n",
    "    # Return stats\n",
    "    total_return = strategy_returns.sum()\n",
    "    mean_return = strategy_returns.mean()\n",
    "    std_return = strategy_returns.std()\n",
    "    trades_per_year = len(strategy_returns) / n_years\n",
    "\n",
    "    # Annualized return and volatility (linear)\n",
    "    annualized_return = mean_return * trades_per_year\n",
    "    annualized_vol = std_return * np.sqrt(trades_per_year)\n",
    "    \n",
    "    # Sharpe ratio\n",
    "    sharpe_ratio = (mean_return / std_return) * np.sqrt(trades_per_year) if std_return > 0 else 0\n",
    "\n",
    "    # Max drawdown\n",
    "    cumulative_returns = strategy_returns.cumsum()\n",
    "    running_max = cumulative_returns.cummax()\n",
    "    drawdown = cumulative_returns - running_max\n",
    "    max_drawdown = drawdown.min()\n",
    "\n",
    "    # Alpha/Beta vs BTC\n",
    "    btc_returns = ret['BTCUSDT'].dropna()\n",
    "    strat_ts = pd.Series(0.0, index=px.index)\n",
    "\n",
    "    for trade in trade_details:\n",
    "        ts = trade['timestamp']\n",
    "        if ts in strat_ts.index:\n",
    "            strat_ts.loc[ts] += trade['net_return']\n",
    "\n",
    "    aligned = pd.concat([strat_ts, btc_returns], axis=1).dropna()\n",
    "    if len(aligned) > 50:\n",
    "        beta, alpha, r_val, _, _ = stats.linregress(aligned.iloc[:,1], aligned.iloc[:,0])\n",
    "        alpha_annualized = alpha * trades_per_year\n",
    "        r_squared = r_val**2\n",
    "    else:\n",
    "        beta, alpha_annualized, r_squared = 0, 0, 0\n",
    "\n",
    "    # Output\n",
    "    print(\"\\n\" + \"=\"*60)\n",
    "    print(\"PERFORMANCE METRICS\")\n",
    "    print(\"=\"*60)\n",
    "    print(f\"Total Return (sum of trades): {total_return:.2%}\")\n",
    "    print(f\"Mean Return per Trade: {mean_return:.4%}\")\n",
    "    print(f\"Annualized Return: {annualized_return:.2%}\")\n",
    "    print(f\"Annualized Volatility: {annualized_vol:.2%}\")\n",
    "    print(f\"Sharpe Ratio (Annualized): {sharpe_ratio:.3f}\")\n",
    "    print(f\"Max Drawdown: {max_drawdown:.2%}\")\n",
    "    print(f\"Alpha (Annualized): {alpha_annualized:.4f}\")\n",
    "    print(f\"Beta vs BTC: {beta:.3f}\")\n",
    "    print(f\"R-squared: {r_squared:.3f}\")\n",
    "    print(f\"Number of Trades: {len(strategy_returns)}\")\n"
   ]
  }
 ],
 "metadata": {
  "kernelspec": {
   "display_name": "Python 3",
   "language": "python",
   "name": "python3"
  },
  "language_info": {
   "codemirror_mode": {
    "name": "ipython",
    "version": 3
   },
   "file_extension": ".py",
   "mimetype": "text/x-python",
   "name": "python",
   "nbconvert_exporter": "python",
   "pygments_lexer": "ipython3",
   "version": "3.8.8"
  }
 },
 "nbformat": 4,
 "nbformat_minor": 5
}
